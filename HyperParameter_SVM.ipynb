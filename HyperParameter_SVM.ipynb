{
 "cells": [
  {
   "cell_type": "code",
   "execution_count": 2,
   "metadata": {},
   "outputs": [],
   "source": [
    "import numpy as np\n",
    "\n",
    "from sklearn.datasets import fetch_openml\n",
    "mnist = fetch_openml('mnist_784', version=1, cache=True)\n",
    "\n",
    "\n",
    "X = mnist[\"data\"]\n",
    "y = mnist[\"target\"].astype(np.uint8)"
   ]
  },
  {
   "cell_type": "code",
   "execution_count": 3,
   "metadata": {},
   "outputs": [],
   "source": [
    "X_train = X[:60000]\n",
    "y_train = y[:60000]\n",
    "X_test = X[60000:]\n",
    "y_test = y[60000:]"
   ]
  },
  {
   "cell_type": "code",
   "execution_count": 4,
   "metadata": {},
   "outputs": [],
   "source": [
    "from sklearn.svm import LinearSVC\n"
   ]
  },
  {
   "cell_type": "code",
   "execution_count": 5,
   "metadata": {},
   "outputs": [
    {
     "name": "stderr",
     "output_type": "stream",
     "text": [
      "/anaconda3/lib/python3.6/site-packages/sklearn/svm/base.py:931: ConvergenceWarning: Liblinear failed to converge, increase the number of iterations.\n",
      "  \"the number of iterations.\", ConvergenceWarning)\n"
     ]
    },
    {
     "data": {
      "text/plain": [
       "LinearSVC(C=1.0, class_weight=None, dual=True, fit_intercept=True,\n",
       "     intercept_scaling=1, loss='squared_hinge', max_iter=1000,\n",
       "     multi_class='ovr', penalty='l2', random_state=42, tol=0.0001,\n",
       "     verbose=0)"
      ]
     },
     "execution_count": 5,
     "metadata": {},
     "output_type": "execute_result"
    }
   ],
   "source": [
    "lin_clf = LinearSVC(random_state=42)\n",
    "lin_clf.fit(X_train, y_train)"
   ]
  },
  {
   "cell_type": "code",
   "execution_count": 6,
   "metadata": {},
   "outputs": [
    {
     "data": {
      "text/plain": [
       "0.895"
      ]
     },
     "execution_count": 6,
     "metadata": {},
     "output_type": "execute_result"
    }
   ],
   "source": [
    "from sklearn.metrics import accuracy_score\n",
    "\n",
    "y_pred = lin_clf.predict(X_train)\n",
    "accuracy_score(y_train, y_pred)"
   ]
  },
  {
   "cell_type": "code",
   "execution_count": 8,
   "metadata": {},
   "outputs": [],
   "source": [
    "from sklearn.preprocessing import StandardScaler"
   ]
  },
  {
   "cell_type": "code",
   "execution_count": 9,
   "metadata": {},
   "outputs": [],
   "source": [
    "scaler = StandardScaler()\n",
    "X_train_scaled = scaler.fit_transform(X_train.astype(np.float32))\n",
    "X_test_scaled = scaler.transform(X_test.astype(np.float32))"
   ]
  },
  {
   "cell_type": "code",
   "execution_count": 10,
   "metadata": {},
   "outputs": [
    {
     "name": "stderr",
     "output_type": "stream",
     "text": [
      "/anaconda3/lib/python3.6/site-packages/sklearn/svm/base.py:931: ConvergenceWarning: Liblinear failed to converge, increase the number of iterations.\n",
      "  \"the number of iterations.\", ConvergenceWarning)\n"
     ]
    },
    {
     "data": {
      "text/plain": [
       "LinearSVC(C=1.0, class_weight=None, dual=True, fit_intercept=True,\n",
       "     intercept_scaling=1, loss='squared_hinge', max_iter=1000,\n",
       "     multi_class='ovr', penalty='l2', random_state=42, tol=0.0001,\n",
       "     verbose=0)"
      ]
     },
     "execution_count": 10,
     "metadata": {},
     "output_type": "execute_result"
    }
   ],
   "source": [
    "lin_clf = LinearSVC(random_state=42)\n",
    "lin_clf.fit(X_train_scaled, y_train)"
   ]
  },
  {
   "cell_type": "code",
   "execution_count": 16,
   "metadata": {},
   "outputs": [],
   "source": [
    "from sklearn.svm import SVC"
   ]
  },
  {
   "cell_type": "code",
   "execution_count": 12,
   "metadata": {},
   "outputs": [
    {
     "data": {
      "text/plain": [
       "0.92105"
      ]
     },
     "execution_count": 12,
     "metadata": {},
     "output_type": "execute_result"
    }
   ],
   "source": [
    "y_pred = lin_clf.predict(X_train_scaled)\n",
    "accuracy_score(y_train, y_pred)"
   ]
  },
  {
   "cell_type": "code",
   "execution_count": 17,
   "metadata": {},
   "outputs": [
    {
     "data": {
      "text/plain": [
       "SVC(C=1.0, cache_size=200, class_weight=None, coef0=0.0,\n",
       "  decision_function_shape='ovr', degree=3, gamma='scale', kernel='rbf',\n",
       "  max_iter=-1, probability=False, random_state=None, shrinking=True,\n",
       "  tol=0.001, verbose=False)"
      ]
     },
     "execution_count": 17,
     "metadata": {},
     "output_type": "execute_result"
    }
   ],
   "source": [
    "svm_clf = SVC(gamma=\"scale\")\n",
    "svm_clf.fit(X_train_scaled[:10000], y_train[:10000])"
   ]
  },
  {
   "cell_type": "code",
   "execution_count": 22,
   "metadata": {},
   "outputs": [
    {
     "data": {
      "text/plain": [
       "0.9455333333333333"
      ]
     },
     "execution_count": 22,
     "metadata": {},
     "output_type": "execute_result"
    }
   ],
   "source": [
    "y_pred = svm_clf.predict(X_train_scaled)\n",
    "accuracy_score(y_train, y_pred)"
   ]
  },
  {
   "cell_type": "code",
   "execution_count": 18,
   "metadata": {},
   "outputs": [],
   "source": [
    "from sklearn.model_selection import RandomizedSearchCV\n",
    "from scipy.stats import reciprocal, uniform"
   ]
  },
  {
   "cell_type": "code",
   "execution_count": 19,
   "metadata": {
    "scrolled": true
   },
   "outputs": [
    {
     "name": "stdout",
     "output_type": "stream",
     "text": [
      "Fitting 3 folds for each of 10 candidates, totalling 30 fits\n",
      "[CV] C=2.9163258654328166, gamma=0.028104237813477047 ................\n"
     ]
    },
    {
     "name": "stderr",
     "output_type": "stream",
     "text": [
      "[Parallel(n_jobs=1)]: Using backend SequentialBackend with 1 concurrent workers.\n"
     ]
    },
    {
     "name": "stdout",
     "output_type": "stream",
     "text": [
      "[CV] . C=2.9163258654328166, gamma=0.028104237813477047, total=   1.0s\n",
      "[CV] C=2.9163258654328166, gamma=0.028104237813477047 ................\n"
     ]
    },
    {
     "name": "stderr",
     "output_type": "stream",
     "text": [
      "[Parallel(n_jobs=1)]: Done   1 out of   1 | elapsed:    1.4s remaining:    0.0s\n"
     ]
    },
    {
     "name": "stdout",
     "output_type": "stream",
     "text": [
      "[CV] . C=2.9163258654328166, gamma=0.028104237813477047, total=   1.2s\n",
      "[CV] C=2.9163258654328166, gamma=0.028104237813477047 ................\n",
      "[CV] . C=2.9163258654328166, gamma=0.028104237813477047, total=   1.2s\n",
      "[CV] C=4.655113182099468, gamma=0.03544228967899794 ..................\n",
      "[CV] ... C=4.655113182099468, gamma=0.03544228967899794, total=   0.9s\n",
      "[CV] C=4.655113182099468, gamma=0.03544228967899794 ..................\n",
      "[CV] ... C=4.655113182099468, gamma=0.03544228967899794, total=   1.0s\n",
      "[CV] C=4.655113182099468, gamma=0.03544228967899794 ..................\n",
      "[CV] ... C=4.655113182099468, gamma=0.03544228967899794, total=   1.1s\n",
      "[CV] C=7.858484767349372, gamma=0.011426602342806425 .................\n",
      "[CV] .. C=7.858484767349372, gamma=0.011426602342806425, total=   1.0s\n",
      "[CV] C=7.858484767349372, gamma=0.011426602342806425 .................\n",
      "[CV] .. C=7.858484767349372, gamma=0.011426602342806425, total=   1.0s\n",
      "[CV] C=7.858484767349372, gamma=0.011426602342806425 .................\n",
      "[CV] .. C=7.858484767349372, gamma=0.011426602342806425, total=   1.0s\n",
      "[CV] C=4.359894862830744, gamma=0.009387209074406893 .................\n",
      "[CV] .. C=4.359894862830744, gamma=0.009387209074406893, total=   1.3s\n",
      "[CV] C=4.359894862830744, gamma=0.009387209074406893 .................\n",
      "[CV] .. C=4.359894862830744, gamma=0.009387209074406893, total=   1.1s\n",
      "[CV] C=4.359894862830744, gamma=0.009387209074406893 .................\n",
      "[CV] .. C=4.359894862830744, gamma=0.009387209074406893, total=   1.0s\n",
      "[CV] C=4.178395473068896, gamma=0.07505158021044118 ..................\n",
      "[CV] ... C=4.178395473068896, gamma=0.07505158021044118, total=   1.0s\n",
      "[CV] C=4.178395473068896, gamma=0.07505158021044118 ..................\n",
      "[CV] ... C=4.178395473068896, gamma=0.07505158021044118, total=   1.0s\n",
      "[CV] C=4.178395473068896, gamma=0.07505158021044118 ..................\n",
      "[CV] ... C=4.178395473068896, gamma=0.07505158021044118, total=   1.0s\n",
      "[CV] C=6.51252286418519, gamma=0.06522847592468278 ...................\n",
      "[CV] .... C=6.51252286418519, gamma=0.06522847592468278, total=   1.0s\n",
      "[CV] C=6.51252286418519, gamma=0.06522847592468278 ...................\n",
      "[CV] .... C=6.51252286418519, gamma=0.06522847592468278, total=   1.0s\n",
      "[CV] C=6.51252286418519, gamma=0.06522847592468278 ...................\n",
      "[CV] .... C=6.51252286418519, gamma=0.06522847592468278, total=   1.0s\n",
      "[CV] C=1.8242901267106573, gamma=0.06276002705204438 .................\n",
      "[CV] .. C=1.8242901267106573, gamma=0.06276002705204438, total=   1.0s\n",
      "[CV] C=1.8242901267106573, gamma=0.06276002705204438 .................\n",
      "[CV] .. C=1.8242901267106573, gamma=0.06276002705204438, total=   1.0s\n",
      "[CV] C=1.8242901267106573, gamma=0.06276002705204438 .................\n",
      "[CV] .. C=1.8242901267106573, gamma=0.06276002705204438, total=   1.0s\n",
      "[CV] C=6.041451726210311, gamma=0.00843477976256373 ..................\n",
      "[CV] ... C=6.041451726210311, gamma=0.00843477976256373, total=   0.9s\n",
      "[CV] C=6.041451726210311, gamma=0.00843477976256373 ..................\n",
      "[CV] ... C=6.041451726210311, gamma=0.00843477976256373, total=   0.9s\n",
      "[CV] C=6.041451726210311, gamma=0.00843477976256373 ..................\n",
      "[CV] ... C=6.041451726210311, gamma=0.00843477976256373, total=   1.0s\n",
      "[CV] C=9.24658004410427, gamma=0.022295760245625663 ..................\n",
      "[CV] ... C=9.24658004410427, gamma=0.022295760245625663, total=   1.0s\n",
      "[CV] C=9.24658004410427, gamma=0.022295760245625663 ..................\n",
      "[CV] ... C=9.24658004410427, gamma=0.022295760245625663, total=   1.0s\n",
      "[CV] C=9.24658004410427, gamma=0.022295760245625663 ..................\n",
      "[CV] ... C=9.24658004410427, gamma=0.022295760245625663, total=   1.0s\n",
      "[CV] C=5.513870242498995, gamma=0.005049238039054601 .................\n",
      "[CV] .. C=5.513870242498995, gamma=0.005049238039054601, total=   0.9s\n",
      "[CV] C=5.513870242498995, gamma=0.005049238039054601 .................\n",
      "[CV] .. C=5.513870242498995, gamma=0.005049238039054601, total=   0.9s\n",
      "[CV] C=5.513870242498995, gamma=0.005049238039054601 .................\n",
      "[CV] .. C=5.513870242498995, gamma=0.005049238039054601, total=   0.9s\n"
     ]
    },
    {
     "name": "stderr",
     "output_type": "stream",
     "text": [
      "[Parallel(n_jobs=1)]: Done  30 out of  30 | elapsed:   43.0s finished\n",
      "/anaconda3/lib/python3.6/site-packages/sklearn/model_selection/_search.py:841: DeprecationWarning: The default of the `iid` parameter will change from True to False in version 0.22 and will be removed in 0.24. This will change numeric results when test-set sizes are unequal.\n",
      "  DeprecationWarning)\n"
     ]
    },
    {
     "data": {
      "text/plain": [
       "RandomizedSearchCV(cv=3, error_score='raise-deprecating',\n",
       "          estimator=SVC(C=1.0, cache_size=200, class_weight=None, coef0=0.0,\n",
       "  decision_function_shape='ovr', degree=3, gamma='scale', kernel='rbf',\n",
       "  max_iter=-1, probability=False, random_state=None, shrinking=True,\n",
       "  tol=0.001, verbose=False),\n",
       "          fit_params=None, iid='warn', n_iter=10, n_jobs=None,\n",
       "          param_distributions={'gamma': <scipy.stats._distn_infrastructure.rv_frozen object at 0x1a23a1e978>, 'C': <scipy.stats._distn_infrastructure.rv_frozen object at 0x1a23a1eef0>},\n",
       "          pre_dispatch='2*n_jobs', random_state=None, refit=True,\n",
       "          return_train_score='warn', scoring=None, verbose=2)"
      ]
     },
     "execution_count": 19,
     "metadata": {},
     "output_type": "execute_result"
    }
   ],
   "source": [
    "param_distributions = {\"gamma\": reciprocal(0.001, 0.1), \"C\": uniform(1, 10)}\n",
    "rnd_search_cv = RandomizedSearchCV(svm_clf, param_distributions, n_iter=10, verbose=2, cv=3)\n",
    "rnd_search_cv.fit(X_train_scaled[:1000], y_train[:1000])"
   ]
  },
  {
   "cell_type": "code",
   "execution_count": 20,
   "metadata": {},
   "outputs": [
    {
     "data": {
      "text/plain": [
       "SVC(C=5.513870242498995, cache_size=200, class_weight=None, coef0=0.0,\n",
       "  decision_function_shape='ovr', degree=3, gamma=0.005049238039054601,\n",
       "  kernel='rbf', max_iter=-1, probability=False, random_state=None,\n",
       "  shrinking=True, tol=0.001, verbose=False)"
      ]
     },
     "execution_count": 20,
     "metadata": {},
     "output_type": "execute_result"
    }
   ],
   "source": [
    "rnd_search_cv.best_estimator_"
   ]
  },
  {
   "cell_type": "code",
   "execution_count": 21,
   "metadata": {},
   "outputs": [
    {
     "data": {
      "text/plain": [
       "0.754"
      ]
     },
     "execution_count": 21,
     "metadata": {},
     "output_type": "execute_result"
    }
   ],
   "source": [
    "rnd_search_cv.best_score_"
   ]
  },
  {
   "cell_type": "code",
   "execution_count": 22,
   "metadata": {},
   "outputs": [
    {
     "data": {
      "text/plain": [
       "SVC(C=5.513870242498995, cache_size=200, class_weight=None, coef0=0.0,\n",
       "  decision_function_shape='ovr', degree=3, gamma=0.005049238039054601,\n",
       "  kernel='rbf', max_iter=-1, probability=False, random_state=None,\n",
       "  shrinking=True, tol=0.001, verbose=False)"
      ]
     },
     "execution_count": 22,
     "metadata": {},
     "output_type": "execute_result"
    }
   ],
   "source": [
    "rnd_search_cv.best_estimator_.fit(X_train_scaled, y_train)"
   ]
  },
  {
   "cell_type": "code",
   "execution_count": null,
   "metadata": {},
   "outputs": [],
   "source": [
    "y_pred = rnd_search_cv.best_estimator_.predict(X_train_scaled)\n",
    "mse = mean_squared_error(y_train, y_pred)\n",
    "np.sqrt(mse)"
   ]
  },
  {
   "cell_type": "code",
   "execution_count": null,
   "metadata": {},
   "outputs": [],
   "source": [
    "y_pred = rnd_search_cv.best_estimator_.predict(X_test_scaled)\n",
    "mse = mean_squared_error(y_test, y_pred)\n",
    "np.sqrt(mse)"
   ]
  },
  {
   "cell_type": "code",
   "execution_count": 24,
   "metadata": {},
   "outputs": [
    {
     "data": {
      "text/plain": [
       "0.9444"
      ]
     },
     "execution_count": 24,
     "metadata": {},
     "output_type": "execute_result"
    }
   ],
   "source": [
    "y_pred = rnd_search_cv.best_estimator_.predict(X_test_scaled)\n",
    "accuracy_score(y_test, y_pred)"
   ]
  },
  {
   "cell_type": "code",
   "execution_count": null,
   "metadata": {},
   "outputs": [],
   "source": []
  }
 ],
 "metadata": {
  "kernelspec": {
   "display_name": "Python 3",
   "language": "python",
   "name": "python3"
  },
  "language_info": {
   "codemirror_mode": {
    "name": "ipython",
    "version": 3
   },
   "file_extension": ".py",
   "mimetype": "text/x-python",
   "name": "python",
   "nbconvert_exporter": "python",
   "pygments_lexer": "ipython3",
   "version": "3.6.8"
  }
 },
 "nbformat": 4,
 "nbformat_minor": 2
}
